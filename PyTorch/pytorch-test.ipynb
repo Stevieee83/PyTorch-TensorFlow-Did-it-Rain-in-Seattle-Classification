{
 "cells": [
  {
   "cell_type": "markdown",
   "id": "4314f136",
   "metadata": {},
   "source": [
    "# PyTorch Feed-Forward Neural Network Tests\n",
    "## Dataset: Did it Rain in Seattle? (1948-2017)\n",
    "\n",
    "Kaggle Dataset Web Link:\n",
    "\n",
    "https://www.kaggle.com/datasets/rtatman/did-it-rain-in-seattle-19482017\n",
    "\n",
    "\n",
    "A separate test Jupyter Notebook displays how a deep aural network model is loaded to a runtime, and predictions are made from the model on test data. The Jupyter Notebook simulates how a deep neural network operates when deployed to a web application online without the deployment steps."
   ]
  },
  {
   "cell_type": "code",
   "execution_count": 1,
   "id": "ffa25536",
   "metadata": {},
   "outputs": [],
   "source": [
    "import torch\n",
    "import torch.nn as nn\n",
    "from torch.utils.data import Dataset, DataLoader\n",
    "import torchmetrics\n",
    "from torchmetrics import ConfusionMatrix\n",
    "from mlxtend.plotting import plot_confusion_matrix\n",
    "\n",
    "import pandas as pd\n",
    "import os\n",
    "import pathlib\n",
    "import matplotlib.pyplot as plt\n",
    "\n",
    "from sklearn.metrics import classification_report\n",
    "from sklearn import metrics"
   ]
  },
  {
   "cell_type": "markdown",
   "id": "f5fbb4c1",
   "metadata": {},
   "source": [
    "# Hyperparameters"
   ]
  },
  {
   "cell_type": "code",
   "execution_count": 2,
   "id": "fca80e18",
   "metadata": {},
   "outputs": [],
   "source": [
    "# Model paramters from the training Jupyter Notebook\n",
    "input_layer = 4        # Sets the number of parameters in the input layer\n",
    "hidden_layer_1 = 7     # Sets the number of parameters in hidden layer 1\n",
    "hidden_layer_2 = 7     # Sets the number of parameters in hidden layer 2\n",
    "hidden_layer_3 = 7     # Sets the number of parameters in hidden layer 3\n",
    "hidden_layer_4 = 7     # Sets the number of parameters in hidden layer 4\n",
    "hidden_layer_5 = 7     # Sets the number of parameters in hidden layer 5\n",
    "hidden_layer_6 = 7     # Sets the number of parameters in hidden layer 6\n",
    "output_layer = 1       # Sets the number of parameters in the output layer\n",
    "batch_size = 32        # Sets the batch size\n",
    "# -----------------"
   ]
  },
  {
   "cell_type": "markdown",
   "id": "b69be5ed",
   "metadata": {},
   "source": [
    "# Set the Device to a GPU or CPU"
   ]
  },
  {
   "cell_type": "code",
   "execution_count": 3,
   "id": "672ee551",
   "metadata": {},
   "outputs": [
    {
     "data": {
      "text/plain": [
       "'cpu'"
      ]
     },
     "execution_count": 3,
     "metadata": {},
     "output_type": "execute_result"
    }
   ],
   "source": [
    "# If a GPU is available use cuda or use the CPU if not available\n",
    "device = 'cuda' if torch.cuda.is_available() else 'cpu'\n",
    "\n",
    "# Prints out the available processing device to the screen\n",
    "device"
   ]
  },
  {
   "cell_type": "markdown",
   "id": "afd03c38",
   "metadata": {},
   "source": [
    "# CSV Dataset Object"
   ]
  },
  {
   "cell_type": "code",
   "execution_count": 4,
   "id": "cfdbe669",
   "metadata": {},
   "outputs": [],
   "source": [
    "# CSVDataset Python class object\n",
    "class CSVDataset(Dataset):\n",
    "    \n",
    "    \"\"\"CSVDataset PyTorch dataset.\n",
    "       Args:\n",
    "       X (NumPy Array): Features of the CSV dataset\n",
    "       y (NumPy Array): Targets of the CSV dataset\n",
    "    \"\"\"\n",
    "    \n",
    "    # CSVDataset class constructor\n",
    "    def __init__(self, X, y):\n",
    "        # Converts the features and targets into PyTorch tensors\n",
    "        self.X = torch.tensor(X, dtype=torch.float32)\n",
    "        self.y = torch.tensor(y, dtype=torch.float32)\n",
    "\n",
    "    # Python method to measure the lenght of the dataset\n",
    "    def __len__(self):\n",
    "        return len(self.X)\n",
    "\n",
    "    # Python method to get an item from the dataset\n",
    "    def __getitem__(self, idx):\n",
    "        \n",
    "        # Gets one sample from the dataset\n",
    "        features = self.X[idx]\n",
    "        target = self.y[idx]\n",
    "        \n",
    "        # Returns the features and the targets of the CSV dataset\n",
    "        return features, target"
   ]
  },
  {
   "cell_type": "markdown",
   "id": "09a1f384",
   "metadata": {},
   "source": [
    "# PyTorch FNN Model Object"
   ]
  },
  {
   "cell_type": "code",
   "execution_count": 5,
   "id": "f9018f56",
   "metadata": {},
   "outputs": [],
   "source": [
    "# FNN PyTorch Neural Netwrk Model\n",
    "class FNN(nn.Module):\n",
    "    \n",
    "    \"\"\"Feed Forward Neural Network (FNN) object.\n",
    "       Args:\n",
    "       input_layer (tensor): Sets the number of neurons in the input layer.\n",
    "       hiddel_layer_1 (tensor): Sets the number of neurons in the 1st hidden layer.\n",
    "       hiddel_layer_2 (tensor): Sets the number of neurons in the 2nd hidden layer.\n",
    "       output_layer (tensor): Sets the number of neurons in the output layer.\n",
    "    \"\"\"\n",
    "    \n",
    "    # FNN class constructor\n",
    "    def __init__(self, input_layer,\n",
    "                 hidden_layer_1,\n",
    "                 hidden_layer_2,\n",
    "                 hidden_layer_3,\n",
    "                 hidden_layer_4,\n",
    "                 hidden_layer_5,\n",
    "                 hidden_layer_6,\n",
    "                 output_layer):\n",
    "        super().__init__()\n",
    "        \n",
    "        # FNN class attributes\n",
    "        self.fnn = nn.Sequential(nn.Linear(input_layer, hidden_layer_1),    # Input layer\n",
    "                                 nn.ReLU(),\n",
    "                                 nn.Linear(hidden_layer_2, hidden_layer_3), # Hidden Layer 1\n",
    "                                 nn.ReLU(),\n",
    "                                 nn.Linear(hidden_layer_4, hidden_layer_5), # Hidden Layer 3\n",
    "                                 nn.ReLU(),\n",
    "                                 nn.Linear(hidden_layer_6, output_layer), # Output layer\n",
    "                                 nn.Sigmoid())\n",
    "\n",
    "    # Python forward method to control the forward pass of the FNN object\n",
    "    def forward(self, x):    \n",
    "        \n",
    "        # Returns the output results of the FNN object\n",
    "        return self.fnn(x)"
   ]
  },
  {
   "cell_type": "markdown",
   "id": "8135d969",
   "metadata": {},
   "source": [
    "# Initialise the FNN Model"
   ]
  },
  {
   "cell_type": "code",
   "execution_count": 6,
   "id": "6da2508a",
   "metadata": {},
   "outputs": [
    {
     "name": "stdout",
     "output_type": "stream",
     "text": [
      "FNN(\n",
      "  (fnn): Sequential(\n",
      "    (0): Linear(in_features=4, out_features=7, bias=True)\n",
      "    (1): ReLU()\n",
      "    (2): Linear(in_features=7, out_features=7, bias=True)\n",
      "    (3): ReLU()\n",
      "    (4): Linear(in_features=7, out_features=7, bias=True)\n",
      "    (5): ReLU()\n",
      "    (6): Linear(in_features=7, out_features=1, bias=True)\n",
      "    (7): Sigmoid()\n",
      "  )\n",
      ")\n"
     ]
    }
   ],
   "source": [
    "# Defines the FNN PyTorch model\n",
    "model = FNN(input_layer=input_layer,\n",
    "            hidden_layer_1=hidden_layer_1,\n",
    "            hidden_layer_2=hidden_layer_2,\n",
    "            hidden_layer_3=hidden_layer_3,\n",
    "            hidden_layer_4=hidden_layer_4,\n",
    "            hidden_layer_5=hidden_layer_5,\n",
    "            hidden_layer_6=hidden_layer_6,\n",
    "            output_layer=output_layer)\n",
    "\n",
    "# Pritns out the FNN model architecture to the screen\n",
    "print(model)"
   ]
  },
  {
   "cell_type": "markdown",
   "id": "66458840",
   "metadata": {},
   "source": [
    "# Load the Test Dataset"
   ]
  },
  {
   "cell_type": "code",
   "execution_count": 7,
   "id": "afde1101",
   "metadata": {},
   "outputs": [],
   "source": [
    "# Loads the test data to the Jupyter Notebook\n",
    "X_test = pd.read_csv(\"./output_csv_data/X_test\", header=None).values\n",
    "y_test = pd.read_csv(\"./output_csv_data/y_test\", header=None).values"
   ]
  },
  {
   "cell_type": "code",
   "execution_count": 8,
   "id": "aece571b",
   "metadata": {},
   "outputs": [
    {
     "data": {
      "text/plain": [
       "array([[0],\n",
       "       [0],\n",
       "       [0],\n",
       "       ...,\n",
       "       [0],\n",
       "       [0],\n",
       "       [0]])"
      ]
     },
     "execution_count": 8,
     "metadata": {},
     "output_type": "execute_result"
    }
   ],
   "source": [
    "# Reshapes the target classes y\n",
    "y_test.reshape(-1, 1)"
   ]
  },
  {
   "cell_type": "markdown",
   "id": "dffa406b",
   "metadata": {},
   "source": [
    "# Create the Test DataLoders"
   ]
  },
  {
   "cell_type": "code",
   "execution_count": 9,
   "id": "6d3e98c0",
   "metadata": {},
   "outputs": [],
   "source": [
    "# Stores the test CSVDataset in the dataset variable\n",
    "testset = CSVDataset(X_test, y_test)\n",
    "\n",
    "# Creates the test PyTorch DataLoader\n",
    "test_loader = DataLoader(testset, shuffle=False, batch_size=batch_size)"
   ]
  },
  {
   "cell_type": "markdown",
   "id": "03158a9c",
   "metadata": {},
   "source": [
    "# Reload the Saved Model to the Jupyter Notebook"
   ]
  },
  {
   "cell_type": "code",
   "execution_count": 10,
   "id": "f3481255",
   "metadata": {},
   "outputs": [
    {
     "data": {
      "text/plain": [
       "FNN(\n",
       "  (fnn): Sequential(\n",
       "    (0): Linear(in_features=4, out_features=7, bias=True)\n",
       "    (1): ReLU()\n",
       "    (2): Linear(in_features=7, out_features=7, bias=True)\n",
       "    (3): ReLU()\n",
       "    (4): Linear(in_features=7, out_features=7, bias=True)\n",
       "    (5): ReLU()\n",
       "    (6): Linear(in_features=7, out_features=1, bias=True)\n",
       "    (7): Sigmoid()\n",
       "  )\n",
       ")"
      ]
     },
     "execution_count": 10,
     "metadata": {},
     "output_type": "execute_result"
    }
   ],
   "source": [
    "# Checkpoint file path directory\n",
    "path = './pytorch-model/'\n",
    "\n",
    "# Gets the name of the saved model weight file State Dictionary\n",
    "model_file = os.listdir(path)\n",
    "\n",
    "# load the daves model to the Jupyter Notebook\n",
    "model_load = torch.load(path + model_file[0])\n",
    "\n",
    "# Pritns out the saved model weights file State Dictionary to the screen\n",
    "model_load"
   ]
  },
  {
   "cell_type": "markdown",
   "id": "3e684ad1",
   "metadata": {},
   "source": [
    "# Test the FNN PyTorch Model"
   ]
  },
  {
   "cell_type": "code",
   "execution_count": 11,
   "id": "1a389786",
   "metadata": {},
   "outputs": [
    {
     "name": "stdout",
     "output_type": "stream",
     "text": [
      "Number of Test Batches: 184\n"
     ]
    }
   ],
   "source": [
    "# Defines the torchmetrics evaluation test metrics for the FNN model\n",
    "accuracy = torchmetrics.Accuracy(task=\"multiclass\", num_classes=2)\n",
    "recall = torchmetrics.Recall(task=\"multiclass\", average=\"macro\", num_classes=2)\n",
    "precision = torchmetrics.Precision(task=\"multiclass\", average=\"macro\", num_classes=2)\n",
    "f1_score = torchmetrics.F1Score(task=\"multiclass\", num_classes=2)\n",
    "\n",
    "# Stores the test accuracies in a Python list\n",
    "test_accuracies = []\n",
    "\n",
    "# Stores all the predictions and labels from the test dataset\n",
    "y_preds = []\n",
    "labels = []\n",
    "\n",
    "# Freezes the model gradients for validation\n",
    "with torch.no_grad():\n",
    "    \n",
    "    # Stores the test accuracy\n",
    "    test_acc, test_rec, test_pre, test_f1 = 0, 0, 0, 0\n",
    "    \n",
    "    # Loads the test dataset batches to the model\n",
    "    for k, data in enumerate(test_loader):\n",
    "        \n",
    "        # Unpacks the features and target classes from the data variable\n",
    "        X_batch, y_batch = data\n",
    "        \n",
    "        # Sends the features and the target classes to the device\n",
    "        X_batch = X_batch.to(device)\n",
    "        y_batch = y_batch.to(device)\n",
    "        \n",
    "        # Stores the test predictions from the model\n",
    "        y_pred = model_load(X_batch)\n",
    "        \n",
    "        # Calculates the test accuracy, recall, precision and F1 score for the batch\n",
    "        acc = accuracy(y_pred.round(), y_batch)\n",
    "        rec = recall(y_pred.round(), y_batch)\n",
    "        pre = precision(y_pred.round(), y_batch)\n",
    "        f1 = f1_score(y_pred.round(), y_batch)\n",
    "        \n",
    "        # Accumulates the test accuracy, recall, precision and F1 score\n",
    "        test_acc += acc\n",
    "        test_rec += rec\n",
    "        test_pre += pre\n",
    "        test_f1 += f1\n",
    "        \n",
    "        # Appends the test accuracies to the test_accuracies list\n",
    "        test_accuracies.append(acc)\n",
    "        y_preds.append(y_pred.round())\n",
    "        labels.append(y_batch)\n",
    "        \n",
    "    # Calculates the overall test accuracy, recall, precision and F1 Score\n",
    "    test_acc /= len(test_loader)\n",
    "    test_rec /= len(test_loader)\n",
    "    test_pre /= len(test_loader)\n",
    "    test_f1 /= len(test_loader)\n",
    "    \n",
    "    # Creates a PyTorch tensor for the labels for the test dataset\n",
    "    y_pred_tensor = torch.cat(y_preds)\n",
    "    labels=torch.cat(labels).int()\n",
    "    \n",
    "    # Prints out the overall test accuracy and the number of test batches to the screen\n",
    "    print(\"Number of Test Batches:\", len(test_accuracies))"
   ]
  },
  {
   "cell_type": "markdown",
   "id": "0c3f86a4",
   "metadata": {},
   "source": [
    "# Accuracy"
   ]
  },
  {
   "cell_type": "code",
   "execution_count": 12,
   "id": "83515d0a",
   "metadata": {},
   "outputs": [
    {
     "name": "stdout",
     "output_type": "stream",
     "text": [
      "Test Accuracy 100.00%\n"
     ]
    }
   ],
   "source": [
    "# Prints out the overall test accuracy and the number of test batches to the screen\n",
    "print(f\"Test Accuracy {test_acc*100:.2f}%\")"
   ]
  },
  {
   "cell_type": "markdown",
   "id": "e7feba3d",
   "metadata": {},
   "source": [
    "# Recall"
   ]
  },
  {
   "cell_type": "code",
   "execution_count": 13,
   "id": "d0a6e6f4",
   "metadata": {},
   "outputs": [
    {
     "name": "stdout",
     "output_type": "stream",
     "text": [
      "Test Recall 100.00%\n"
     ]
    }
   ],
   "source": [
    "# Prints out the overall test Recall and the number of test batches to the screen\n",
    "print(f\"Test Recall {test_rec*100:.2f}%\")"
   ]
  },
  {
   "cell_type": "markdown",
   "id": "5dfb013e",
   "metadata": {},
   "source": [
    "# Precision"
   ]
  },
  {
   "cell_type": "code",
   "execution_count": 14,
   "id": "4828a107",
   "metadata": {},
   "outputs": [
    {
     "name": "stdout",
     "output_type": "stream",
     "text": [
      "Test Precision 100.00%\n"
     ]
    }
   ],
   "source": [
    "# Prints out the overall test precision and the number of test batches to the screen\n",
    "print(f\"Test Precision {test_pre*100:.2f}%\")"
   ]
  },
  {
   "cell_type": "markdown",
   "id": "1a42382f",
   "metadata": {},
   "source": [
    "# F1 Score"
   ]
  },
  {
   "cell_type": "code",
   "execution_count": 15,
   "id": "ec9b5436",
   "metadata": {},
   "outputs": [
    {
     "name": "stdout",
     "output_type": "stream",
     "text": [
      "Test F1 Score 100.00%\n"
     ]
    }
   ],
   "source": [
    "# Prints out the overall test F1 score and the number of test batches to the screen\n",
    "print(f\"Test F1 Score {test_f1*100:.2f}%\")"
   ]
  },
  {
   "cell_type": "markdown",
   "id": "7770df42",
   "metadata": {},
   "source": [
    "# Confusion Matrix"
   ]
  },
  {
   "cell_type": "code",
   "execution_count": 16,
   "id": "e7813696",
   "metadata": {},
   "outputs": [
    {
     "data": {
      "text/plain": [
       "Text(0.5, 1.0, 'Seattle Weather Confusion Matrix')"
      ]
     },
     "execution_count": 16,
     "metadata": {},
     "output_type": "execute_result"
    },
    {
     "data": {
      "image/png": "[encoded data removed]",
      "text/plain": [
       "<Figure size 1000x700 with 2 Axes>"
      ]
     },
     "metadata": {},
     "output_type": "display_data"
    }
   ],
   "source": [
    "# Class names from the Seattle Weather Dataset\n",
    "class_names = ['Did not Rain', 'Raied']\n",
    "\n",
    "# Setup confusion matrix instance and compare predictions to targets\n",
    "confmat = ConfusionMatrix(num_classes=len(class_names), task='multiclass')\n",
    "confmat_tensor = confmat(preds=y_pred_tensor,\n",
    "                         target=labels)\n",
    "\n",
    "# Plot the confusion matrix\n",
    "fig, ax = plot_confusion_matrix(\n",
    "    conf_mat=confmat_tensor.numpy(), # matplotlib likes working with NumPy \n",
    "    class_names=class_names, # turn the row and column labels into class names\n",
    "    figsize=(10, 7),\n",
    "    show_normed=True,\n",
    "    colorbar=True\n",
    ");\n",
    "\n",
    "# Adds a title to the Confusion Matrix plot\n",
    "plt.title('Seattle Weather Confusion Matrix')"
   ]
  },
  {
   "cell_type": "markdown",
   "id": "e04d9b3b",
   "metadata": {},
   "source": [
    "# Classification Report"
   ]
  },
  {
   "cell_type": "code",
   "execution_count": 17,
   "id": "9ef0c7ec",
   "metadata": {},
   "outputs": [],
   "source": [
    "# Converts the model predictions and the labels to NumPy arrays from tensors\n",
    "predictions=y_pred_tensor.numpy()\n",
    "y_test=labels.numpy()"
   ]
  },
  {
   "cell_type": "code",
   "execution_count": 18,
   "id": "8e60f445",
   "metadata": {},
   "outputs": [
    {
     "name": "stdout",
     "output_type": "stream",
     "text": [
      "                   precision    recall  f1-score   support\n",
      "\n",
      "Heart Disease (1)       1.00      1.00      1.00      2930\n",
      " Disease Free (0)       1.00      1.00      1.00      2930\n",
      "\n",
      "         accuracy                           1.00      5860\n",
      "        macro avg       1.00      1.00      1.00      5860\n",
      "     weighted avg       1.00      1.00      1.00      5860\n",
      "\n"
     ]
    }
   ],
   "source": [
    "# Displays the classification report for the deep neural network to the screen\n",
    "cr = classification_report(y_test, predictions, target_names=['Heart Disease (1)', 'Disease Free (0)', ])\n",
    "print(cr)"
   ]
  },
  {
   "cell_type": "markdown",
   "id": "c45fcb79",
   "metadata": {},
   "source": [
    "# Receiver Operator Characteristic (AUROC)"
   ]
  },
  {
   "cell_type": "code",
   "execution_count": 19,
   "id": "7fdac089",
   "metadata": {},
   "outputs": [
    {
     "data": {
      "image/png": "[encoded data removed]",
      "text/plain": [
       "<Figure size 640x480 with 1 Axes>"
      ]
     },
     "metadata": {},
     "output_type": "display_data"
    }
   ],
   "source": [
    "# Stores the false positives, true positives and the thresholds for plotting\n",
    "fpr, tpr, thresholds = metrics.roc_curve(y_test, predictions.round())\n",
    "\n",
    "# Stores the AUROC curve plot values in the roc_auc variable\n",
    "roc_auc = metrics.auc(fpr, tpr)\n",
    "\n",
    "# Plots the Receiver Operating Characteristic AUROC curve\n",
    "plt.title('Receiver Operating Characteristic')\n",
    "plt.plot(fpr, tpr, 'b', label = 'AUC = %0.2f' % roc_auc)\n",
    "plt.legend(loc = 'lower right')\n",
    "plt.plot([0, 1], [0, 1],'r--')\n",
    "plt.xlim([0, 1])\n",
    "plt.ylim([0, 1])\n",
    "plt.ylabel('True Positive Rate')\n",
    "plt.xlabel('False Positive Rate')\n",
    "plt.show()"
   ]
  },
  {
   "cell_type": "markdown",
   "id": "4772cf7e",
   "metadata": {},
   "source": [
    "# Print out all the Python Variables from the Jupyter Notebook to the Screen"
   ]
  },
  {
   "cell_type": "code",
   "execution_count": 20,
   "id": "95501795",
   "metadata": {},
   "outputs": [
    {
     "name": "stdout",
     "output_type": "stream",
     "text": [
      "Variable                Type                         Data/Info\n",
      "--------------------------------------------------------------\n",
      "CSVDataset              type                         <class '__main__.CSVDataset'>\n",
      "ConfusionMatrix         ABCMeta                      <class 'torchmetrics.clas<...>_matrix.ConfusionMatrix'>\n",
      "DataLoader              type                         <class 'torch.utils.data.dataloader.DataLoader'>\n",
      "Dataset                 type                         <class 'torch.utils.data.dataset.Dataset'>\n",
      "FNN                     type                         <class '__main__.FNN'>\n",
      "X_batch                 Tensor                       tensor([[ 0.6195, -0.5035<...>5035, -0.2179, -0.2609]])\n",
      "X_test                  ndarray                      5860x4: 23440 elems, type `float64`, 187520 bytes (183.125 kb)\n",
      "acc                     Tensor                       tensor(1.)\n",
      "accuracy                MulticlassAccuracy           MulticlassAccuracy()\n",
      "ax                      Axes                         Axes(0.206,0.11;0.539x0.77)\n",
      "batch_size              int                          32\n",
      "class_names             list                         n=2\n",
      "classification_report   function                     <function classification_<...>report at 0x78fed67ca480>\n",
      "confmat                 MulticlassConfusionMatrix    MulticlassConfusionMatrix()\n",
      "confmat_tensor          Tensor                       tensor([[2930,    0],\\n        [   0, 2930]])\n",
      "cr                      str                                             precis<...>.00      1.00      5860\\n\n",
      "data                    list                         n=2\n",
      "device                  str                          cpu\n",
      "f1                      Tensor                       tensor(1.)\n",
      "f1_score                MulticlassF1Score            MulticlassF1Score()\n",
      "fig                     Figure                       Figure(1000x700)\n",
      "fpr                     ndarray                      3: 3 elems, type `float64`, 24 bytes\n",
      "hidden_layer_1          int                          7\n",
      "hidden_layer_2          int                          7\n",
      "hidden_layer_3          int                          7\n",
      "hidden_layer_4          int                          7\n",
      "hidden_layer_5          int                          7\n",
      "hidden_layer_6          int                          7\n",
      "input_layer             int                          4\n",
      "k                       int                          183\n",
      "labels                  Tensor                       tensor([[0],\\n        [0]<...> [0]], dtype=torch.int32)\n",
      "metrics                 module                       <module 'sklearn.metrics'<...>arn/metrics/__init__.py'>\n",
      "model                   FNN                          FNN(\\n  (fnn): Sequential<...>   (7): Sigmoid()\\n  )\\n)\n",
      "model_file              list                         n=1\n",
      "model_load              FNN                          FNN(\\n  (fnn): Sequential<...>   (7): Sigmoid()\\n  )\\n)\n",
      "nn                      module                       <module 'torch.nn' from '<...>es/torch/nn/__init__.py'>\n",
      "os                      module                       <module 'os' (frozen)>\n",
      "output_layer            int                          1\n",
      "path                    str                          ./pytorch-model/\n",
      "pathlib                 module                       <module 'pathlib' from '/<...>b/python3.11/pathlib.py'>\n",
      "pd                      module                       <module 'pandas' from '/h<...>ages/pandas/__init__.py'>\n",
      "plot_confusion_matrix   function                     <function plot_confusion_<...>matrix at 0x78fedaa7fd80>\n",
      "plt                     module                       <module 'matplotlib.pyplo<...>es/matplotlib/pyplot.py'>\n",
      "pre                     Tensor                       tensor(1.)\n",
      "precision               MulticlassPrecision          MulticlassPrecision()\n",
      "predictions             ndarray                      5860x1: 5860 elems, type `float32`, 23440 bytes\n",
      "rec                     Tensor                       tensor(1.)\n",
      "recall                  MulticlassRecall             MulticlassRecall()\n",
      "roc_auc                 float64                      1.0\n",
      "test_acc                Tensor                       tensor(1.)\n",
      "test_accuracies         list                         n=184\n",
      "test_f1                 Tensor                       tensor(1.)\n",
      "test_loader             DataLoader                   <torch.utils.data.dataloa<...>object at 0x78ff48378b50>\n",
      "test_pre                Tensor                       tensor(1.)\n",
      "test_rec                Tensor                       tensor(1.)\n",
      "testset                 CSVDataset                   <__main__.CSVDataset object at 0x78fed5b8c090>\n",
      "thresholds              ndarray                      3: 3 elems, type `float32`, 12 bytes\n",
      "torch                   module                       <module 'torch' from '/ho<...>kages/torch/__init__.py'>\n",
      "torchmetrics            module                       <module 'torchmetrics' fr<...>orchmetrics/__init__.py'>\n",
      "tpr                     ndarray                      3: 3 elems, type `float64`, 24 bytes\n",
      "y_batch                 Tensor                       tensor([[0.],\\n        [0<...>    [0.],\\n        [0.]])\n",
      "y_pred                  Tensor                       tensor([[1.5477e-08],\\n  <...>,\\n        [3.0478e-08]])\n",
      "y_pred_tensor           Tensor                       tensor([[0.],\\n        [0<...>    [0.],\\n        [0.]])\n",
      "y_preds                 list                         n=184\n",
      "y_test                  ndarray                      5860x1: 5860 elems, type `int32`, 23440 bytes\n"
     ]
    }
   ],
   "source": [
    "# Prints out all the Python variables to the screen\n",
    "%whos"
   ]
  },
  {
   "cell_type": "code",
   "execution_count": null,
   "id": "37cbf96a",
   "metadata": {},
   "outputs": [],
   "source": []
  }
 ],
 "metadata": {
  "kernelspec": {
   "display_name": "Python 3 (ipykernel)",
   "language": "python",
   "name": "python3"
  },
  "language_info": {
   "codemirror_mode": {
    "name": "ipython",
    "version": 3
   },
   "file_extension": ".py",
   "mimetype": "text/x-python",
   "name": "python",
   "nbconvert_exporter": "python",
   "pygments_lexer": "ipython3",
   "version": "3.11.5"
  }
 },
 "nbformat": 4,
 "nbformat_minor": 5
}
