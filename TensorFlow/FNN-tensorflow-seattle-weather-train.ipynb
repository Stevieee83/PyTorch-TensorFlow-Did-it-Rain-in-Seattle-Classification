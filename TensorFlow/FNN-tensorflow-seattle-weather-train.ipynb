{
 "cells": [
  {
   "cell_type": "markdown",
   "id": "00079535",
   "metadata": {},
   "source": [
    "# TensorFlow Feed-Forward Neural Network\n",
    "## Dataset: Did it Rain in Seattle? (1948-2017)\n",
    "\n",
    "Kaggle Dataset Web Link:\n",
    "\n",
    "https://www.kaggle.com/datasets/rtatman/did-it-rain-in-seattle-19482017\n"
   ]
  },
  {
   "cell_type": "code",
   "execution_count": 1,
   "id": "f2e46029",
   "metadata": {},
   "outputs": [
    {
     "name": "stderr",
     "output_type": "stream",
     "text": [
      "2024-03-23 18:51:43.209853: I external/local_tsl/tsl/cuda/cudart_stub.cc:32] Could not find cuda drivers on your machine, GPU will not be used.\n",
      "2024-03-23 18:51:43.212388: I external/local_tsl/tsl/cuda/cudart_stub.cc:32] Could not find cuda drivers on your machine, GPU will not be used.\n",
      "2024-03-23 18:51:43.249140: I tensorflow/core/platform/cpu_feature_guard.cc:210] This TensorFlow binary is optimized to use available CPU instructions in performance-critical operations.\n",
      "To enable the following instructions: AVX2 FMA, in other operations, rebuild TensorFlow with the appropriate compiler flags.\n",
      "2024-03-23 18:51:43.984279: W tensorflow/compiler/tf2tensorrt/utils/py_utils.cc:38] TF-TRT Warning: Could not find TensorRT\n"
     ]
    }
   ],
   "source": [
    "import tensorflow as tf\n",
    "from tensorflow import keras\n",
    "from tensorflow.keras.models import Sequential\n",
    "from tensorflow.keras.layers import Activation, Dense\n",
    "from tensorflow.keras.optimizers import AdamW\n",
    "from tensorflow.keras.metrics import categorical_crossentropy\n",
    "from tensorflow.keras.callbacks import EarlyStopping\n",
    "\n",
    "from sklearn.model_selection import train_test_split\n",
    "from sklearn import metrics\n",
    "\n",
    "import pandas as pd\n",
    "import matplotlib.pyplot as plt"
   ]
  },
  {
   "cell_type": "markdown",
   "id": "c7a83e09",
   "metadata": {},
   "source": [
    "# Hyperparameters"
   ]
  },
  {
   "cell_type": "code",
   "execution_count": 2,
   "id": "8e46eda2",
   "metadata": {},
   "outputs": [],
   "source": [
    "# Hyperparameters\n",
    "input_shape = (4,)       # Sets the number of input parameters in the input layer\n",
    "input_units = 7          # Sets the number of output parameters in the input layer\n",
    "hidden_units_1 = 7       # Sets the number of input parameters in hidden layer 1\n",
    "hidden_units_2 = 7       # Sets the number of input parameters in hidden layer 2\n",
    "output_units = 1         # Sets the number of parameters at the output layer\n",
    "lr = 1e-3                # Sets the leanring rate\n",
    "epochs = 60              # Sets the number of training epochs\n",
    "batch_size = 32          # Sets the batch size\n",
    "# -----------------"
   ]
  },
  {
   "cell_type": "markdown",
   "id": "b1186ef3",
   "metadata": {},
   "source": [
    "# Load the Data to the Jupyter Notebook"
   ]
  },
  {
   "cell_type": "code",
   "execution_count": 3,
   "id": "f6f91019",
   "metadata": {},
   "outputs": [],
   "source": [
    "# Read in the CSV data to the script with the Pandas library\n",
    "X_train_in = pd.read_csv('./dataset/X_train.csv')\n",
    "y_train_in = pd.read_csv('./dataset/y_train.csv')\n",
    "X_test = pd.read_csv('./dataset/X_test.csv')\n",
    "y_test = pd.read_csv('./dataset/y_test.csv')"
   ]
  },
  {
   "cell_type": "code",
   "execution_count": 4,
   "id": "1f4c1dcd",
   "metadata": {},
   "outputs": [
    {
     "data": {
      "text/html": [
       "<div>\n",
       "<style scoped>\n",
       "    .dataframe tbody tr th:only-of-type {\n",
       "        vertical-align: middle;\n",
       "    }\n",
       "\n",
       "    .dataframe tbody tr th {\n",
       "        vertical-align: top;\n",
       "    }\n",
       "\n",
       "    .dataframe thead th {\n",
       "        text-align: right;\n",
       "    }\n",
       "</style>\n",
       "<table border=\"1\" class=\"dataframe\">\n",
       "  <thead>\n",
       "    <tr style=\"text-align: right;\">\n",
       "      <th></th>\n",
       "      <th>DATE</th>\n",
       "      <th>PRCP</th>\n",
       "      <th>TMAX</th>\n",
       "      <th>TMIN</th>\n",
       "    </tr>\n",
       "  </thead>\n",
       "  <tbody>\n",
       "    <tr>\n",
       "      <th>15303</th>\n",
       "      <td>-0.572820</td>\n",
       "      <td>-0.381966</td>\n",
       "      <td>-0.378219</td>\n",
       "      <td>-0.260914</td>\n",
       "    </tr>\n",
       "    <tr>\n",
       "      <th>7199</th>\n",
       "      <td>-0.259383</td>\n",
       "      <td>2.210652</td>\n",
       "      <td>0.743952</td>\n",
       "      <td>1.232160</td>\n",
       "    </tr>\n",
       "    <tr>\n",
       "      <th>6363</th>\n",
       "      <td>1.714217</td>\n",
       "      <td>-0.503495</td>\n",
       "      <td>2.587519</td>\n",
       "      <td>2.840086</td>\n",
       "    </tr>\n",
       "    <tr>\n",
       "      <th>1380</th>\n",
       "      <td>0.638299</td>\n",
       "      <td>-0.503495</td>\n",
       "      <td>-0.378219</td>\n",
       "      <td>0.083642</td>\n",
       "    </tr>\n",
       "    <tr>\n",
       "      <th>14037</th>\n",
       "      <td>1.047148</td>\n",
       "      <td>0.347208</td>\n",
       "      <td>-1.019460</td>\n",
       "      <td>-0.720321</td>\n",
       "    </tr>\n",
       "    <tr>\n",
       "      <th>...</th>\n",
       "      <td>...</td>\n",
       "      <td>...</td>\n",
       "      <td>...</td>\n",
       "      <td>...</td>\n",
       "    </tr>\n",
       "    <tr>\n",
       "      <th>6093</th>\n",
       "      <td>-1.208492</td>\n",
       "      <td>-0.503495</td>\n",
       "      <td>1.064572</td>\n",
       "      <td>1.117308</td>\n",
       "    </tr>\n",
       "    <tr>\n",
       "      <th>21589</th>\n",
       "      <td>0.559533</td>\n",
       "      <td>0.100579</td>\n",
       "      <td>-1.340080</td>\n",
       "      <td>-1.294580</td>\n",
       "    </tr>\n",
       "    <tr>\n",
       "      <th>15688</th>\n",
       "      <td>-1.225544</td>\n",
       "      <td>0.306698</td>\n",
       "      <td>-0.538530</td>\n",
       "      <td>-0.031210</td>\n",
       "    </tr>\n",
       "    <tr>\n",
       "      <th>2707</th>\n",
       "      <td>1.640188</td>\n",
       "      <td>-0.462985</td>\n",
       "      <td>-0.698840</td>\n",
       "      <td>-1.064877</td>\n",
       "    </tr>\n",
       "    <tr>\n",
       "      <th>14307</th>\n",
       "      <td>0.468182</td>\n",
       "      <td>-0.503495</td>\n",
       "      <td>0.824107</td>\n",
       "      <td>-0.031210</td>\n",
       "    </tr>\n",
       "  </tbody>\n",
       "</table>\n",
       "<p>18748 rows × 4 columns</p>\n",
       "</div>"
      ],
      "text/plain": [
       "           DATE      PRCP      TMAX      TMIN\n",
       "15303 -0.572820 -0.381966 -0.378219 -0.260914\n",
       "7199  -0.259383  2.210652  0.743952  1.232160\n",
       "6363   1.714217 -0.503495  2.587519  2.840086\n",
       "1380   0.638299 -0.503495 -0.378219  0.083642\n",
       "14037  1.047148  0.347208 -1.019460 -0.720321\n",
       "...         ...       ...       ...       ...\n",
       "6093  -1.208492 -0.503495  1.064572  1.117308\n",
       "21589  0.559533  0.100579 -1.340080 -1.294580\n",
       "15688 -1.225544  0.306698 -0.538530 -0.031210\n",
       "2707   1.640188 -0.462985 -0.698840 -1.064877\n",
       "14307  0.468182 -0.503495  0.824107 -0.031210\n",
       "\n",
       "[18748 rows x 4 columns]"
      ]
     },
     "execution_count": 4,
     "metadata": {},
     "output_type": "execute_result"
    }
   ],
   "source": [
    "# Split the training and validation data with ScikitLearn\n",
    "X_train, X_val, y_train, y_val = train_test_split(X_train_in, y_train_in, test_size=0.2, stratify=y_train_in, random_state=42)\n",
    "\n",
    "# Prints out the X_train Pandas DataFrame to the screen\n",
    "X_train"
   ]
  },
  {
   "cell_type": "code",
   "execution_count": 5,
   "id": "24ace137",
   "metadata": {},
   "outputs": [
    {
     "data": {
      "text/html": [
       "<div>\n",
       "<style scoped>\n",
       "    .dataframe tbody tr th:only-of-type {\n",
       "        vertical-align: middle;\n",
       "    }\n",
       "\n",
       "    .dataframe tbody tr th {\n",
       "        vertical-align: top;\n",
       "    }\n",
       "\n",
       "    .dataframe thead th {\n",
       "        text-align: right;\n",
       "    }\n",
       "</style>\n",
       "<table border=\"1\" class=\"dataframe\">\n",
       "  <thead>\n",
       "    <tr style=\"text-align: right;\">\n",
       "      <th></th>\n",
       "      <th>DATE</th>\n",
       "      <th>PRCP</th>\n",
       "      <th>TMAX</th>\n",
       "      <th>TMIN</th>\n",
       "    </tr>\n",
       "  </thead>\n",
       "  <tbody>\n",
       "    <tr>\n",
       "      <th>11504</th>\n",
       "      <td>1.011960</td>\n",
       "      <td>-0.503495</td>\n",
       "      <td>0.102711</td>\n",
       "      <td>-0.835173</td>\n",
       "    </tr>\n",
       "    <tr>\n",
       "      <th>10831</th>\n",
       "      <td>1.451936</td>\n",
       "      <td>-0.422476</td>\n",
       "      <td>-0.137754</td>\n",
       "      <td>-0.260914</td>\n",
       "    </tr>\n",
       "    <tr>\n",
       "      <th>12442</th>\n",
       "      <td>-0.781779</td>\n",
       "      <td>-0.503495</td>\n",
       "      <td>-1.340080</td>\n",
       "      <td>-1.753988</td>\n",
       "    </tr>\n",
       "    <tr>\n",
       "      <th>6050</th>\n",
       "      <td>1.365728</td>\n",
       "      <td>-0.503495</td>\n",
       "      <td>1.705813</td>\n",
       "      <td>1.461864</td>\n",
       "    </tr>\n",
       "    <tr>\n",
       "      <th>9427</th>\n",
       "      <td>1.226738</td>\n",
       "      <td>-0.503495</td>\n",
       "      <td>0.182866</td>\n",
       "      <td>0.657901</td>\n",
       "    </tr>\n",
       "    <tr>\n",
       "      <th>...</th>\n",
       "      <td>...</td>\n",
       "      <td>...</td>\n",
       "      <td>...</td>\n",
       "      <td>...</td>\n",
       "    </tr>\n",
       "    <tr>\n",
       "      <th>21301</th>\n",
       "      <td>-1.391195</td>\n",
       "      <td>-0.503495</td>\n",
       "      <td>0.263021</td>\n",
       "      <td>-0.031210</td>\n",
       "    </tr>\n",
       "    <tr>\n",
       "      <th>3349</th>\n",
       "      <td>-1.243814</td>\n",
       "      <td>-0.179418</td>\n",
       "      <td>0.423331</td>\n",
       "      <td>1.117308</td>\n",
       "    </tr>\n",
       "    <tr>\n",
       "      <th>263</th>\n",
       "      <td>-1.661054</td>\n",
       "      <td>-0.503495</td>\n",
       "      <td>-0.458375</td>\n",
       "      <td>0.083642</td>\n",
       "    </tr>\n",
       "    <tr>\n",
       "      <th>6280</th>\n",
       "      <td>-0.494596</td>\n",
       "      <td>-0.503495</td>\n",
       "      <td>-0.778995</td>\n",
       "      <td>-0.375766</td>\n",
       "    </tr>\n",
       "    <tr>\n",
       "      <th>3368</th>\n",
       "      <td>0.905451</td>\n",
       "      <td>-0.503495</td>\n",
       "      <td>-0.137754</td>\n",
       "      <td>-1.179729</td>\n",
       "    </tr>\n",
       "  </tbody>\n",
       "</table>\n",
       "<p>4688 rows × 4 columns</p>\n",
       "</div>"
      ],
      "text/plain": [
       "           DATE      PRCP      TMAX      TMIN\n",
       "11504  1.011960 -0.503495  0.102711 -0.835173\n",
       "10831  1.451936 -0.422476 -0.137754 -0.260914\n",
       "12442 -0.781779 -0.503495 -1.340080 -1.753988\n",
       "6050   1.365728 -0.503495  1.705813  1.461864\n",
       "9427   1.226738 -0.503495  0.182866  0.657901\n",
       "...         ...       ...       ...       ...\n",
       "21301 -1.391195 -0.503495  0.263021 -0.031210\n",
       "3349  -1.243814 -0.179418  0.423331  1.117308\n",
       "263   -1.661054 -0.503495 -0.458375  0.083642\n",
       "6280  -0.494596 -0.503495 -0.778995 -0.375766\n",
       "3368   0.905451 -0.503495 -0.137754 -1.179729\n",
       "\n",
       "[4688 rows x 4 columns]"
      ]
     },
     "execution_count": 5,
     "metadata": {},
     "output_type": "execute_result"
    }
   ],
   "source": [
    "# Prints out the X_val Pandas DataFrame to the screen\n",
    "X_val"
   ]
  },
  {
   "cell_type": "code",
   "execution_count": 6,
   "id": "208edf54",
   "metadata": {},
   "outputs": [
    {
     "data": {
      "text/html": [
       "<div>\n",
       "<style scoped>\n",
       "    .dataframe tbody tr th:only-of-type {\n",
       "        vertical-align: middle;\n",
       "    }\n",
       "\n",
       "    .dataframe tbody tr th {\n",
       "        vertical-align: top;\n",
       "    }\n",
       "\n",
       "    .dataframe thead th {\n",
       "        text-align: right;\n",
       "    }\n",
       "</style>\n",
       "<table border=\"1\" class=\"dataframe\">\n",
       "  <thead>\n",
       "    <tr style=\"text-align: right;\">\n",
       "      <th></th>\n",
       "      <th>DATE</th>\n",
       "      <th>PRCP</th>\n",
       "      <th>TMAX</th>\n",
       "      <th>TMIN</th>\n",
       "    </tr>\n",
       "  </thead>\n",
       "  <tbody>\n",
       "    <tr>\n",
       "      <th>0</th>\n",
       "      <td>-0.047041</td>\n",
       "      <td>-0.503495</td>\n",
       "      <td>-1.340080</td>\n",
       "      <td>-1.409432</td>\n",
       "    </tr>\n",
       "    <tr>\n",
       "      <th>1</th>\n",
       "      <td>-0.579181</td>\n",
       "      <td>-0.503495</td>\n",
       "      <td>-1.179770</td>\n",
       "      <td>-1.064877</td>\n",
       "    </tr>\n",
       "    <tr>\n",
       "      <th>2</th>\n",
       "      <td>1.313353</td>\n",
       "      <td>-0.503495</td>\n",
       "      <td>1.064572</td>\n",
       "      <td>0.887604</td>\n",
       "    </tr>\n",
       "    <tr>\n",
       "      <th>3</th>\n",
       "      <td>-1.414608</td>\n",
       "      <td>-0.503495</td>\n",
       "      <td>-0.298064</td>\n",
       "      <td>-0.490618</td>\n",
       "    </tr>\n",
       "    <tr>\n",
       "      <th>4</th>\n",
       "      <td>-1.409871</td>\n",
       "      <td>-0.503495</td>\n",
       "      <td>1.305037</td>\n",
       "      <td>0.198493</td>\n",
       "    </tr>\n",
       "    <tr>\n",
       "      <th>...</th>\n",
       "      <td>...</td>\n",
       "      <td>...</td>\n",
       "      <td>...</td>\n",
       "      <td>...</td>\n",
       "    </tr>\n",
       "    <tr>\n",
       "      <th>5855</th>\n",
       "      <td>0.229856</td>\n",
       "      <td>-0.503495</td>\n",
       "      <td>1.705813</td>\n",
       "      <td>1.347012</td>\n",
       "    </tr>\n",
       "    <tr>\n",
       "      <th>5856</th>\n",
       "      <td>0.619487</td>\n",
       "      <td>-0.503495</td>\n",
       "      <td>1.465347</td>\n",
       "      <td>0.772753</td>\n",
       "    </tr>\n",
       "    <tr>\n",
       "      <th>5857</th>\n",
       "      <td>1.506477</td>\n",
       "      <td>-0.503495</td>\n",
       "      <td>0.663797</td>\n",
       "      <td>0.543049</td>\n",
       "    </tr>\n",
       "    <tr>\n",
       "      <th>5858</th>\n",
       "      <td>1.078410</td>\n",
       "      <td>-0.503495</td>\n",
       "      <td>0.343176</td>\n",
       "      <td>0.313345</td>\n",
       "    </tr>\n",
       "    <tr>\n",
       "      <th>5859</th>\n",
       "      <td>-0.528024</td>\n",
       "      <td>-0.503495</td>\n",
       "      <td>-0.217909</td>\n",
       "      <td>-0.260914</td>\n",
       "    </tr>\n",
       "  </tbody>\n",
       "</table>\n",
       "<p>5860 rows × 4 columns</p>\n",
       "</div>"
      ],
      "text/plain": [
       "          DATE      PRCP      TMAX      TMIN\n",
       "0    -0.047041 -0.503495 -1.340080 -1.409432\n",
       "1    -0.579181 -0.503495 -1.179770 -1.064877\n",
       "2     1.313353 -0.503495  1.064572  0.887604\n",
       "3    -1.414608 -0.503495 -0.298064 -0.490618\n",
       "4    -1.409871 -0.503495  1.305037  0.198493\n",
       "...        ...       ...       ...       ...\n",
       "5855  0.229856 -0.503495  1.705813  1.347012\n",
       "5856  0.619487 -0.503495  1.465347  0.772753\n",
       "5857  1.506477 -0.503495  0.663797  0.543049\n",
       "5858  1.078410 -0.503495  0.343176  0.313345\n",
       "5859 -0.528024 -0.503495 -0.217909 -0.260914\n",
       "\n",
       "[5860 rows x 4 columns]"
      ]
     },
     "execution_count": 6,
     "metadata": {},
     "output_type": "execute_result"
    }
   ],
   "source": [
    "# Prints out the X_test Pandas DataFrame to the screen\n",
    "X_test"
   ]
  },
  {
   "cell_type": "code",
   "execution_count": 7,
   "id": "ded286b2",
   "metadata": {},
   "outputs": [
    {
     "data": {
      "text/html": [
       "<div>\n",
       "<style scoped>\n",
       "    .dataframe tbody tr th:only-of-type {\n",
       "        vertical-align: middle;\n",
       "    }\n",
       "\n",
       "    .dataframe tbody tr th {\n",
       "        vertical-align: top;\n",
       "    }\n",
       "\n",
       "    .dataframe thead th {\n",
       "        text-align: right;\n",
       "    }\n",
       "</style>\n",
       "<table border=\"1\" class=\"dataframe\">\n",
       "  <thead>\n",
       "    <tr style=\"text-align: right;\">\n",
       "      <th></th>\n",
       "      <th>RAIN</th>\n",
       "    </tr>\n",
       "  </thead>\n",
       "  <tbody>\n",
       "    <tr>\n",
       "      <th>15303</th>\n",
       "      <td>1</td>\n",
       "    </tr>\n",
       "    <tr>\n",
       "      <th>7199</th>\n",
       "      <td>1</td>\n",
       "    </tr>\n",
       "    <tr>\n",
       "      <th>6363</th>\n",
       "      <td>0</td>\n",
       "    </tr>\n",
       "    <tr>\n",
       "      <th>1380</th>\n",
       "      <td>0</td>\n",
       "    </tr>\n",
       "    <tr>\n",
       "      <th>14037</th>\n",
       "      <td>1</td>\n",
       "    </tr>\n",
       "    <tr>\n",
       "      <th>...</th>\n",
       "      <td>...</td>\n",
       "    </tr>\n",
       "    <tr>\n",
       "      <th>6093</th>\n",
       "      <td>0</td>\n",
       "    </tr>\n",
       "    <tr>\n",
       "      <th>21589</th>\n",
       "      <td>1</td>\n",
       "    </tr>\n",
       "    <tr>\n",
       "      <th>15688</th>\n",
       "      <td>1</td>\n",
       "    </tr>\n",
       "    <tr>\n",
       "      <th>2707</th>\n",
       "      <td>1</td>\n",
       "    </tr>\n",
       "    <tr>\n",
       "      <th>14307</th>\n",
       "      <td>0</td>\n",
       "    </tr>\n",
       "  </tbody>\n",
       "</table>\n",
       "<p>18748 rows × 1 columns</p>\n",
       "</div>"
      ],
      "text/plain": [
       "       RAIN\n",
       "15303     1\n",
       "7199      1\n",
       "6363      0\n",
       "1380      0\n",
       "14037     1\n",
       "...     ...\n",
       "6093      0\n",
       "21589     1\n",
       "15688     1\n",
       "2707      1\n",
       "14307     0\n",
       "\n",
       "[18748 rows x 1 columns]"
      ]
     },
     "execution_count": 7,
     "metadata": {},
     "output_type": "execute_result"
    }
   ],
   "source": [
    "# Prints out the y_train Pandas DataFrame to the screen\n",
    "y_train"
   ]
  },
  {
   "cell_type": "code",
   "execution_count": 8,
   "id": "6ee7b19b",
   "metadata": {},
   "outputs": [
    {
     "data": {
      "text/html": [
       "<div>\n",
       "<style scoped>\n",
       "    .dataframe tbody tr th:only-of-type {\n",
       "        vertical-align: middle;\n",
       "    }\n",
       "\n",
       "    .dataframe tbody tr th {\n",
       "        vertical-align: top;\n",
       "    }\n",
       "\n",
       "    .dataframe thead th {\n",
       "        text-align: right;\n",
       "    }\n",
       "</style>\n",
       "<table border=\"1\" class=\"dataframe\">\n",
       "  <thead>\n",
       "    <tr style=\"text-align: right;\">\n",
       "      <th></th>\n",
       "      <th>RAIN</th>\n",
       "    </tr>\n",
       "  </thead>\n",
       "  <tbody>\n",
       "    <tr>\n",
       "      <th>11504</th>\n",
       "      <td>0</td>\n",
       "    </tr>\n",
       "    <tr>\n",
       "      <th>10831</th>\n",
       "      <td>1</td>\n",
       "    </tr>\n",
       "    <tr>\n",
       "      <th>12442</th>\n",
       "      <td>0</td>\n",
       "    </tr>\n",
       "    <tr>\n",
       "      <th>6050</th>\n",
       "      <td>0</td>\n",
       "    </tr>\n",
       "    <tr>\n",
       "      <th>9427</th>\n",
       "      <td>0</td>\n",
       "    </tr>\n",
       "    <tr>\n",
       "      <th>...</th>\n",
       "      <td>...</td>\n",
       "    </tr>\n",
       "    <tr>\n",
       "      <th>21301</th>\n",
       "      <td>0</td>\n",
       "    </tr>\n",
       "    <tr>\n",
       "      <th>3349</th>\n",
       "      <td>1</td>\n",
       "    </tr>\n",
       "    <tr>\n",
       "      <th>263</th>\n",
       "      <td>0</td>\n",
       "    </tr>\n",
       "    <tr>\n",
       "      <th>6280</th>\n",
       "      <td>0</td>\n",
       "    </tr>\n",
       "    <tr>\n",
       "      <th>3368</th>\n",
       "      <td>0</td>\n",
       "    </tr>\n",
       "  </tbody>\n",
       "</table>\n",
       "<p>4688 rows × 1 columns</p>\n",
       "</div>"
      ],
      "text/plain": [
       "       RAIN\n",
       "11504     0\n",
       "10831     1\n",
       "12442     0\n",
       "6050      0\n",
       "9427      0\n",
       "...     ...\n",
       "21301     0\n",
       "3349      1\n",
       "263       0\n",
       "6280      0\n",
       "3368      0\n",
       "\n",
       "[4688 rows x 1 columns]"
      ]
     },
     "execution_count": 8,
     "metadata": {},
     "output_type": "execute_result"
    }
   ],
   "source": [
    "# Prints out the y_val Pandas DataFrame to the screen\n",
    "y_val"
   ]
  },
  {
   "cell_type": "code",
   "execution_count": 9,
   "id": "dac5720d",
   "metadata": {},
   "outputs": [
    {
     "data": {
      "text/html": [
       "<div>\n",
       "<style scoped>\n",
       "    .dataframe tbody tr th:only-of-type {\n",
       "        vertical-align: middle;\n",
       "    }\n",
       "\n",
       "    .dataframe tbody tr th {\n",
       "        vertical-align: top;\n",
       "    }\n",
       "\n",
       "    .dataframe thead th {\n",
       "        text-align: right;\n",
       "    }\n",
       "</style>\n",
       "<table border=\"1\" class=\"dataframe\">\n",
       "  <thead>\n",
       "    <tr style=\"text-align: right;\">\n",
       "      <th></th>\n",
       "      <th>RAIN</th>\n",
       "    </tr>\n",
       "  </thead>\n",
       "  <tbody>\n",
       "    <tr>\n",
       "      <th>0</th>\n",
       "      <td>0</td>\n",
       "    </tr>\n",
       "    <tr>\n",
       "      <th>1</th>\n",
       "      <td>0</td>\n",
       "    </tr>\n",
       "    <tr>\n",
       "      <th>2</th>\n",
       "      <td>0</td>\n",
       "    </tr>\n",
       "    <tr>\n",
       "      <th>3</th>\n",
       "      <td>0</td>\n",
       "    </tr>\n",
       "    <tr>\n",
       "      <th>4</th>\n",
       "      <td>0</td>\n",
       "    </tr>\n",
       "    <tr>\n",
       "      <th>...</th>\n",
       "      <td>...</td>\n",
       "    </tr>\n",
       "    <tr>\n",
       "      <th>5855</th>\n",
       "      <td>0</td>\n",
       "    </tr>\n",
       "    <tr>\n",
       "      <th>5856</th>\n",
       "      <td>0</td>\n",
       "    </tr>\n",
       "    <tr>\n",
       "      <th>5857</th>\n",
       "      <td>0</td>\n",
       "    </tr>\n",
       "    <tr>\n",
       "      <th>5858</th>\n",
       "      <td>0</td>\n",
       "    </tr>\n",
       "    <tr>\n",
       "      <th>5859</th>\n",
       "      <td>0</td>\n",
       "    </tr>\n",
       "  </tbody>\n",
       "</table>\n",
       "<p>5860 rows × 1 columns</p>\n",
       "</div>"
      ],
      "text/plain": [
       "      RAIN\n",
       "0        0\n",
       "1        0\n",
       "2        0\n",
       "3        0\n",
       "4        0\n",
       "...    ...\n",
       "5855     0\n",
       "5856     0\n",
       "5857     0\n",
       "5858     0\n",
       "5859     0\n",
       "\n",
       "[5860 rows x 1 columns]"
      ]
     },
     "execution_count": 9,
     "metadata": {},
     "output_type": "execute_result"
    }
   ],
   "source": [
    "# Prints out the y_test Pandas DataFrame to the screen\n",
    "y_test"
   ]
  },
  {
   "cell_type": "markdown",
   "id": "e89c1802",
   "metadata": {},
   "source": [
    "# Initialise the Deep Neural Network Model"
   ]
  },
  {
   "cell_type": "code",
   "execution_count": 10,
   "id": "1b1ceb10",
   "metadata": {},
   "outputs": [
    {
     "name": "stderr",
     "output_type": "stream",
     "text": [
      "/home/steve/anaconda3/lib/python3.11/site-packages/keras/src/layers/core/dense.py:88: UserWarning: Do not pass an `input_shape`/`input_dim` argument to a layer. When using Sequential models, prefer using an `Input(shape)` object as the first layer in the model instead.\n",
      "  super().__init__(activity_regularizer=activity_regularizer, **kwargs)\n",
      "2024-03-23 18:51:45.924358: I external/local_xla/xla/stream_executor/cuda/cuda_executor.cc:998] successful NUMA node read from SysFS had negative value (-1), but there must be at least one NUMA node, so returning NUMA node zero. See more at https://github.com/torvalds/linux/blob/v6.0/Documentation/ABI/testing/sysfs-bus-pci#L344-L355\n",
      "2024-03-23 18:51:45.924792: W tensorflow/core/common_runtime/gpu/gpu_device.cc:2251] Cannot dlopen some GPU libraries. Please make sure the missing libraries mentioned above are installed properly if you would like to use GPU. Follow the guide at https://www.tensorflow.org/install/gpu for how to download and setup the required libraries for your platform.\n",
      "Skipping registering GPU devices...\n"
     ]
    }
   ],
   "source": [
    "# Build the Feed Forward Neural Network (FNN) model using the Keras sequential API\n",
    "model = Sequential([\n",
    "    \n",
    "    # Input layer\n",
    "    Dense(units=input_units, input_shape=input_shape, activation='relu'),\n",
    "    \n",
    "    # Hidden layer 1\n",
    "    Dense(units=hidden_units_1, activation='relu'),\n",
    "    \n",
    "    # Hidden layer 2\n",
    "    Dense(units=hidden_units_2, activation='relu'),\n",
    "    \n",
    "    # Output layer\n",
    "    Dense(units=output_units, activation='sigmoid')\n",
    "  ])"
   ]
  },
  {
   "cell_type": "markdown",
   "id": "e35c8489",
   "metadata": {},
   "source": [
    "# Model Summary"
   ]
  },
  {
   "cell_type": "code",
   "execution_count": 11,
   "id": "fc504205",
   "metadata": {},
   "outputs": [
    {
     "data": {
      "text/html": [
       "<pre style=\"white-space:pre;overflow-x:auto;line-height:normal;font-family:Menlo,'DejaVu Sans Mono',consolas,'Courier New',monospace\"><span style=\"font-weight: bold\">Model: \"sequential\"</span>\n",
       "</pre>\n"
      ],
      "text/plain": [
       "\u001b[1mModel: \"sequential\"\u001b[0m\n"
      ]
     },
     "metadata": {},
     "output_type": "display_data"
    },
    {
     "data": {
      "text/html": [
       "<pre style=\"white-space:pre;overflow-x:auto;line-height:normal;font-family:Menlo,'DejaVu Sans Mono',consolas,'Courier New',monospace\">┏━━━━━━━━━━━━━━━━━━━━━━━━━━━━━━━━━┳━━━━━━━━━━━━━━━━━━━━━━━━┳━━━━━━━━━━━━━━━┓\n",
       "┃<span style=\"font-weight: bold\"> Layer (type)                    </span>┃<span style=\"font-weight: bold\"> Output Shape           </span>┃<span style=\"font-weight: bold\">       Param # </span>┃\n",
       "┡━━━━━━━━━━━━━━━━━━━━━━━━━━━━━━━━━╇━━━━━━━━━━━━━━━━━━━━━━━━╇━━━━━━━━━━━━━━━┩\n",
       "│ dense (<span style=\"color: #0087ff; text-decoration-color: #0087ff\">Dense</span>)                   │ (<span style=\"color: #00d7ff; text-decoration-color: #00d7ff\">None</span>, <span style=\"color: #00af00; text-decoration-color: #00af00\">7</span>)              │            <span style=\"color: #00af00; text-decoration-color: #00af00\">35</span> │\n",
       "├─────────────────────────────────┼────────────────────────┼───────────────┤\n",
       "│ dense_1 (<span style=\"color: #0087ff; text-decoration-color: #0087ff\">Dense</span>)                 │ (<span style=\"color: #00d7ff; text-decoration-color: #00d7ff\">None</span>, <span style=\"color: #00af00; text-decoration-color: #00af00\">7</span>)              │            <span style=\"color: #00af00; text-decoration-color: #00af00\">56</span> │\n",
       "├─────────────────────────────────┼────────────────────────┼───────────────┤\n",
       "│ dense_2 (<span style=\"color: #0087ff; text-decoration-color: #0087ff\">Dense</span>)                 │ (<span style=\"color: #00d7ff; text-decoration-color: #00d7ff\">None</span>, <span style=\"color: #00af00; text-decoration-color: #00af00\">7</span>)              │            <span style=\"color: #00af00; text-decoration-color: #00af00\">56</span> │\n",
       "├─────────────────────────────────┼────────────────────────┼───────────────┤\n",
       "│ dense_3 (<span style=\"color: #0087ff; text-decoration-color: #0087ff\">Dense</span>)                 │ (<span style=\"color: #00d7ff; text-decoration-color: #00d7ff\">None</span>, <span style=\"color: #00af00; text-decoration-color: #00af00\">1</span>)              │             <span style=\"color: #00af00; text-decoration-color: #00af00\">8</span> │\n",
       "└─────────────────────────────────┴────────────────────────┴───────────────┘\n",
       "</pre>\n"
      ],
      "text/plain": [
       "┏━━━━━━━━━━━━━━━━━━━━━━━━━━━━━━━━━┳━━━━━━━━━━━━━━━━━━━━━━━━┳━━━━━━━━━━━━━━━┓\n",
       "┃\u001b[1m \u001b[0m\u001b[1mLayer (type)                   \u001b[0m\u001b[1m \u001b[0m┃\u001b[1m \u001b[0m\u001b[1mOutput Shape          \u001b[0m\u001b[1m \u001b[0m┃\u001b[1m \u001b[0m\u001b[1m      Param #\u001b[0m\u001b[1m \u001b[0m┃\n",
       "┡━━━━━━━━━━━━━━━━━━━━━━━━━━━━━━━━━╇━━━━━━━━━━━━━━━━━━━━━━━━╇━━━━━━━━━━━━━━━┩\n",
       "│ dense (\u001b[38;5;33mDense\u001b[0m)                   │ (\u001b[38;5;45mNone\u001b[0m, \u001b[38;5;34m7\u001b[0m)              │            \u001b[38;5;34m35\u001b[0m │\n",
       "├─────────────────────────────────┼────────────────────────┼───────────────┤\n",
       "│ dense_1 (\u001b[38;5;33mDense\u001b[0m)                 │ (\u001b[38;5;45mNone\u001b[0m, \u001b[38;5;34m7\u001b[0m)              │            \u001b[38;5;34m56\u001b[0m │\n",
       "├─────────────────────────────────┼────────────────────────┼───────────────┤\n",
       "│ dense_2 (\u001b[38;5;33mDense\u001b[0m)                 │ (\u001b[38;5;45mNone\u001b[0m, \u001b[38;5;34m7\u001b[0m)              │            \u001b[38;5;34m56\u001b[0m │\n",
       "├─────────────────────────────────┼────────────────────────┼───────────────┤\n",
       "│ dense_3 (\u001b[38;5;33mDense\u001b[0m)                 │ (\u001b[38;5;45mNone\u001b[0m, \u001b[38;5;34m1\u001b[0m)              │             \u001b[38;5;34m8\u001b[0m │\n",
       "└─────────────────────────────────┴────────────────────────┴───────────────┘\n"
      ]
     },
     "metadata": {},
     "output_type": "display_data"
    },
    {
     "data": {
      "text/html": [
       "<pre style=\"white-space:pre;overflow-x:auto;line-height:normal;font-family:Menlo,'DejaVu Sans Mono',consolas,'Courier New',monospace\"><span style=\"font-weight: bold\"> Total params: </span><span style=\"color: #00af00; text-decoration-color: #00af00\">155</span> (620.00 B)\n",
       "</pre>\n"
      ],
      "text/plain": [
       "\u001b[1m Total params: \u001b[0m\u001b[38;5;34m155\u001b[0m (620.00 B)\n"
      ]
     },
     "metadata": {},
     "output_type": "display_data"
    },
    {
     "data": {
      "text/html": [
       "<pre style=\"white-space:pre;overflow-x:auto;line-height:normal;font-family:Menlo,'DejaVu Sans Mono',consolas,'Courier New',monospace\"><span style=\"font-weight: bold\"> Trainable params: </span><span style=\"color: #00af00; text-decoration-color: #00af00\">155</span> (620.00 B)\n",
       "</pre>\n"
      ],
      "text/plain": [
       "\u001b[1m Trainable params: \u001b[0m\u001b[38;5;34m155\u001b[0m (620.00 B)\n"
      ]
     },
     "metadata": {},
     "output_type": "display_data"
    },
    {
     "data": {
      "text/html": [
       "<pre style=\"white-space:pre;overflow-x:auto;line-height:normal;font-family:Menlo,'DejaVu Sans Mono',consolas,'Courier New',monospace\"><span style=\"font-weight: bold\"> Non-trainable params: </span><span style=\"color: #00af00; text-decoration-color: #00af00\">0</span> (0.00 B)\n",
       "</pre>\n"
      ],
      "text/plain": [
       "\u001b[1m Non-trainable params: \u001b[0m\u001b[38;5;34m0\u001b[0m (0.00 B)\n"
      ]
     },
     "metadata": {},
     "output_type": "display_data"
    }
   ],
   "source": [
    "# Prints out the summary of the neural network architecture\n",
    "model.summary()"
   ]
  },
  {
   "cell_type": "markdown",
   "id": "7f2bc28b",
   "metadata": {},
   "source": [
    "# Compile the Model"
   ]
  },
  {
   "cell_type": "code",
   "execution_count": 12,
   "id": "6849da14",
   "metadata": {},
   "outputs": [],
   "source": [
    "# Compiles the TensorFlow Keras Neural Network classifier with the AdamW optimiser\n",
    "model.compile(optimizer=AdamW(learning_rate=lr,\n",
    "                                beta_1=0.9,\n",
    "                                beta_2=0.999,\n",
    "                                epsilon=1e-07),\n",
    "                                loss =\"binary_crossentropy\", \n",
    "                                metrics=[\"accuracy\"])"
   ]
  },
  {
   "cell_type": "markdown",
   "id": "167889b4",
   "metadata": {},
   "source": [
    "# Train the Deep Neural Network Model"
   ]
  },
  {
   "cell_type": "code",
   "execution_count": 13,
   "id": "5c5e3ab1",
   "metadata": {},
   "outputs": [
    {
     "name": "stdout",
     "output_type": "stream",
     "text": [
      "Epoch 1/60\n",
      "\u001b[1m586/586\u001b[0m \u001b[32m━━━━━━━━━━━━━━━━━━━━\u001b[0m\u001b[37m\u001b[0m \u001b[1m1s\u001b[0m 840us/step - accuracy: 0.7033 - loss: 0.5373 - val_accuracy: 0.8965 - val_loss: 0.2433\n",
      "Epoch 2/60\n",
      "\u001b[1m586/586\u001b[0m \u001b[32m━━━━━━━━━━━━━━━━━━━━\u001b[0m\u001b[37m\u001b[0m \u001b[1m0s\u001b[0m 647us/step - accuracy: 0.9098 - loss: 0.2218 - val_accuracy: 0.9326 - val_loss: 0.1700\n",
      "Epoch 3/60\n",
      "\u001b[1m586/586\u001b[0m \u001b[32m━━━━━━━━━━━━━━━━━━━━\u001b[0m\u001b[37m\u001b[0m \u001b[1m0s\u001b[0m 665us/step - accuracy: 0.9422 - loss: 0.1516 - val_accuracy: 0.9646 - val_loss: 0.1048\n",
      "Epoch 4/60\n",
      "\u001b[1m586/586\u001b[0m \u001b[32m━━━━━━━━━━━━━━━━━━━━\u001b[0m\u001b[37m\u001b[0m \u001b[1m0s\u001b[0m 665us/step - accuracy: 0.9696 - loss: 0.0913 - val_accuracy: 0.9868 - val_loss: 0.0608\n",
      "Epoch 5/60\n",
      "\u001b[1m586/586\u001b[0m \u001b[32m━━━━━━━━━━━━━━━━━━━━\u001b[0m\u001b[37m\u001b[0m \u001b[1m0s\u001b[0m 657us/step - accuracy: 0.9822 - loss: 0.0551 - val_accuracy: 0.9940 - val_loss: 0.0371\n",
      "Epoch 6/60\n",
      "\u001b[1m586/586\u001b[0m \u001b[32m━━━━━━━━━━━━━━━━━━━━\u001b[0m\u001b[37m\u001b[0m \u001b[1m0s\u001b[0m 654us/step - accuracy: 0.9922 - loss: 0.0347 - val_accuracy: 0.9987 - val_loss: 0.0225\n",
      "Epoch 7/60\n",
      "\u001b[1m586/586\u001b[0m \u001b[32m━━━━━━━━━━━━━━━━━━━━\u001b[0m\u001b[37m\u001b[0m \u001b[1m0s\u001b[0m 652us/step - accuracy: 0.9969 - loss: 0.0214 - val_accuracy: 1.0000 - val_loss: 0.0132\n",
      "Epoch 8/60\n",
      "\u001b[1m586/586\u001b[0m \u001b[32m━━━━━━━━━━━━━━━━━━━━\u001b[0m\u001b[37m\u001b[0m \u001b[1m0s\u001b[0m 664us/step - accuracy: 0.9995 - loss: 0.0128 - val_accuracy: 1.0000 - val_loss: 0.0079\n",
      "Epoch 9/60\n",
      "\u001b[1m586/586\u001b[0m \u001b[32m━━━━━━━━━━━━━━━━━━━━\u001b[0m\u001b[37m\u001b[0m \u001b[1m0s\u001b[0m 650us/step - accuracy: 0.9996 - loss: 0.0077 - val_accuracy: 1.0000 - val_loss: 0.0047\n",
      "Epoch 10/60\n",
      "\u001b[1m586/586\u001b[0m \u001b[32m━━━━━━━━━━━━━━━━━━━━\u001b[0m\u001b[37m\u001b[0m \u001b[1m0s\u001b[0m 664us/step - accuracy: 0.9999 - loss: 0.0045 - val_accuracy: 1.0000 - val_loss: 0.0029\n",
      "Epoch 11/60\n",
      "\u001b[1m586/586\u001b[0m \u001b[32m━━━━━━━━━━━━━━━━━━━━\u001b[0m\u001b[37m\u001b[0m \u001b[1m0s\u001b[0m 663us/step - accuracy: 1.0000 - loss: 0.0028 - val_accuracy: 1.0000 - val_loss: 0.0018\n",
      "Epoch 12/60\n",
      "\u001b[1m586/586\u001b[0m \u001b[32m━━━━━━━━━━━━━━━━━━━━\u001b[0m\u001b[37m\u001b[0m \u001b[1m0s\u001b[0m 641us/step - accuracy: 1.0000 - loss: 0.0018 - val_accuracy: 1.0000 - val_loss: 0.0012\n",
      "Epoch 13/60\n",
      "\u001b[1m586/586\u001b[0m \u001b[32m━━━━━━━━━━━━━━━━━━━━\u001b[0m\u001b[37m\u001b[0m \u001b[1m0s\u001b[0m 662us/step - accuracy: 1.0000 - loss: 0.0012 - val_accuracy: 1.0000 - val_loss: 7.8883e-04\n",
      "Epoch 14/60\n",
      "\u001b[1m586/586\u001b[0m \u001b[32m━━━━━━━━━━━━━━━━━━━━\u001b[0m\u001b[37m\u001b[0m \u001b[1m0s\u001b[0m 657us/step - accuracy: 1.0000 - loss: 7.6507e-04 - val_accuracy: 1.0000 - val_loss: 5.3133e-04\n",
      "Epoch 15/60\n",
      "\u001b[1m586/586\u001b[0m \u001b[32m━━━━━━━━━━━━━━━━━━━━\u001b[0m\u001b[37m\u001b[0m \u001b[1m0s\u001b[0m 656us/step - accuracy: 1.0000 - loss: 5.1339e-04 - val_accuracy: 1.0000 - val_loss: 3.6296e-04\n",
      "Epoch 16/60\n",
      "\u001b[1m586/586\u001b[0m \u001b[32m━━━━━━━━━━━━━━━━━━━━\u001b[0m\u001b[37m\u001b[0m \u001b[1m0s\u001b[0m 655us/step - accuracy: 1.0000 - loss: 3.4871e-04 - val_accuracy: 1.0000 - val_loss: 2.5205e-04\n",
      "Epoch 17/60\n",
      "\u001b[1m586/586\u001b[0m \u001b[32m━━━━━━━━━━━━━━━━━━━━\u001b[0m\u001b[37m\u001b[0m \u001b[1m0s\u001b[0m 614us/step - accuracy: 1.0000 - loss: 2.4083e-04 - val_accuracy: 1.0000 - val_loss: 1.7650e-04\n",
      "Epoch 18/60\n",
      "\u001b[1m586/586\u001b[0m \u001b[32m━━━━━━━━━━━━━━━━━━━━\u001b[0m\u001b[37m\u001b[0m \u001b[1m0s\u001b[0m 658us/step - accuracy: 1.0000 - loss: 1.6786e-04 - val_accuracy: 1.0000 - val_loss: 1.2482e-04\n",
      "Epoch 19/60\n",
      "\u001b[1m586/586\u001b[0m \u001b[32m━━━━━━━━━━━━━━━━━━━━\u001b[0m\u001b[37m\u001b[0m \u001b[1m0s\u001b[0m 658us/step - accuracy: 1.0000 - loss: 1.1794e-04 - val_accuracy: 1.0000 - val_loss: 8.8238e-05\n",
      "Epoch 20/60\n",
      "\u001b[1m586/586\u001b[0m \u001b[32m━━━━━━━━━━━━━━━━━━━━\u001b[0m\u001b[37m\u001b[0m \u001b[1m0s\u001b[0m 652us/step - accuracy: 1.0000 - loss: 8.3269e-05 - val_accuracy: 1.0000 - val_loss: 6.2767e-05\n",
      "Epoch 21/60\n",
      "\u001b[1m586/586\u001b[0m \u001b[32m━━━━━━━━━━━━━━━━━━━━\u001b[0m\u001b[37m\u001b[0m \u001b[1m0s\u001b[0m 649us/step - accuracy: 1.0000 - loss: 5.8746e-05 - val_accuracy: 1.0000 - val_loss: 4.4973e-05\n",
      "Epoch 22/60\n",
      "\u001b[1m586/586\u001b[0m \u001b[32m━━━━━━━━━━━━━━━━━━━━\u001b[0m\u001b[37m\u001b[0m \u001b[1m0s\u001b[0m 614us/step - accuracy: 1.0000 - loss: 4.1973e-05 - val_accuracy: 1.0000 - val_loss: 3.2480e-05\n",
      "Epoch 23/60\n",
      "\u001b[1m586/586\u001b[0m \u001b[32m━━━━━━━━━━━━━━━━━━━━\u001b[0m\u001b[37m\u001b[0m \u001b[1m0s\u001b[0m 653us/step - accuracy: 1.0000 - loss: 3.0054e-05 - val_accuracy: 1.0000 - val_loss: 2.3492e-05\n",
      "Epoch 24/60\n",
      "\u001b[1m586/586\u001b[0m \u001b[32m━━━━━━━━━━━━━━━━━━━━\u001b[0m\u001b[37m\u001b[0m \u001b[1m0s\u001b[0m 646us/step - accuracy: 1.0000 - loss: 2.1441e-05 - val_accuracy: 1.0000 - val_loss: 1.6659e-05\n",
      "Epoch 25/60\n",
      "\u001b[1m586/586\u001b[0m \u001b[32m━━━━━━━━━━━━━━━━━━━━\u001b[0m\u001b[37m\u001b[0m \u001b[1m0s\u001b[0m 657us/step - accuracy: 1.0000 - loss: 1.5274e-05 - val_accuracy: 1.0000 - val_loss: 1.1753e-05\n",
      "Epoch 26/60\n",
      "\u001b[1m586/586\u001b[0m \u001b[32m━━━━━━━━━━━━━━━━━━━━\u001b[0m\u001b[37m\u001b[0m \u001b[1m0s\u001b[0m 655us/step - accuracy: 1.0000 - loss: 1.0952e-05 - val_accuracy: 1.0000 - val_loss: 8.4842e-06\n",
      "Epoch 27/60\n",
      "\u001b[1m586/586\u001b[0m \u001b[32m━━━━━━━━━━━━━━━━━━━━\u001b[0m\u001b[37m\u001b[0m \u001b[1m0s\u001b[0m 618us/step - accuracy: 1.0000 - loss: 7.9605e-06 - val_accuracy: 1.0000 - val_loss: 6.1783e-06\n",
      "Epoch 28/60\n",
      "\u001b[1m586/586\u001b[0m \u001b[32m━━━━━━━━━━━━━━━━━━━━\u001b[0m\u001b[37m\u001b[0m \u001b[1m0s\u001b[0m 649us/step - accuracy: 1.0000 - loss: 5.7697e-06 - val_accuracy: 1.0000 - val_loss: 4.5219e-06\n",
      "Epoch 29/60\n",
      "\u001b[1m586/586\u001b[0m \u001b[32m━━━━━━━━━━━━━━━━━━━━\u001b[0m\u001b[37m\u001b[0m \u001b[1m0s\u001b[0m 651us/step - accuracy: 1.0000 - loss: 3.9755e-06 - val_accuracy: 1.0000 - val_loss: 4.1665e-06\n",
      "Epoch 30/60\n",
      "\u001b[1m586/586\u001b[0m \u001b[32m━━━━━━━━━━━━━━━━━━━━\u001b[0m\u001b[37m\u001b[0m \u001b[1m0s\u001b[0m 659us/step - accuracy: 1.0000 - loss: 2.9279e-06 - val_accuracy: 1.0000 - val_loss: 3.1054e-06\n",
      "Epoch 31/60\n",
      "\u001b[1m586/586\u001b[0m \u001b[32m━━━━━━━━━━━━━━━━━━━━\u001b[0m\u001b[37m\u001b[0m \u001b[1m0s\u001b[0m 657us/step - accuracy: 1.0000 - loss: 2.0232e-06 - val_accuracy: 1.0000 - val_loss: 2.3350e-06\n",
      "Epoch 32/60\n",
      "\u001b[1m586/586\u001b[0m \u001b[32m━━━━━━━━━━━━━━━━━━━━\u001b[0m\u001b[37m\u001b[0m \u001b[1m0s\u001b[0m 626us/step - accuracy: 1.0000 - loss: 1.4880e-06 - val_accuracy: 1.0000 - val_loss: 1.8777e-06\n",
      "Epoch 33/60\n",
      "\u001b[1m586/586\u001b[0m \u001b[32m━━━━━━━━━━━━━━━━━━━━\u001b[0m\u001b[37m\u001b[0m \u001b[1m0s\u001b[0m 653us/step - accuracy: 1.0000 - loss: 1.0848e-06 - val_accuracy: 1.0000 - val_loss: 1.4545e-06\n",
      "Epoch 34/60\n",
      "\u001b[1m586/586\u001b[0m \u001b[32m━━━━━━━━━━━━━━━━━━━━\u001b[0m\u001b[37m\u001b[0m \u001b[1m0s\u001b[0m 650us/step - accuracy: 1.0000 - loss: 8.0123e-07 - val_accuracy: 1.0000 - val_loss: 1.1061e-06\n",
      "Epoch 35/60\n",
      "\u001b[1m586/586\u001b[0m \u001b[32m━━━━━━━━━━━━━━━━━━━━\u001b[0m\u001b[37m\u001b[0m \u001b[1m0s\u001b[0m 659us/step - accuracy: 1.0000 - loss: 5.9152e-07 - val_accuracy: 1.0000 - val_loss: 7.7007e-07\n",
      "Epoch 36/60\n",
      "\u001b[1m586/586\u001b[0m \u001b[32m━━━━━━━━━━━━━━━━━━━━\u001b[0m\u001b[37m\u001b[0m \u001b[1m0s\u001b[0m 652us/step - accuracy: 1.0000 - loss: 4.3514e-07 - val_accuracy: 1.0000 - val_loss: 5.3934e-07\n",
      "Epoch 37/60\n",
      "\u001b[1m586/586\u001b[0m \u001b[32m━━━━━━━━━━━━━━━━━━━━\u001b[0m\u001b[37m\u001b[0m \u001b[1m0s\u001b[0m 621us/step - accuracy: 1.0000 - loss: 3.1631e-07 - val_accuracy: 1.0000 - val_loss: 3.5406e-07\n",
      "Epoch 38/60\n",
      "\u001b[1m586/586\u001b[0m \u001b[32m━━━━━━━━━━━━━━━━━━━━\u001b[0m\u001b[37m\u001b[0m \u001b[1m0s\u001b[0m 658us/step - accuracy: 1.0000 - loss: 2.2962e-07 - val_accuracy: 1.0000 - val_loss: 2.4590e-07\n",
      "Epoch 39/60\n",
      "\u001b[1m586/586\u001b[0m \u001b[32m━━━━━━━━━━━━━━━━━━━━\u001b[0m\u001b[37m\u001b[0m \u001b[1m0s\u001b[0m 652us/step - accuracy: 1.0000 - loss: 1.6803e-07 - val_accuracy: 1.0000 - val_loss: 2.2668e-07\n",
      "Epoch 40/60\n",
      "\u001b[1m586/586\u001b[0m \u001b[32m━━━━━━━━━━━━━━━━━━━━\u001b[0m\u001b[37m\u001b[0m \u001b[1m0s\u001b[0m 660us/step - accuracy: 1.0000 - loss: 1.2335e-07 - val_accuracy: 1.0000 - val_loss: 1.7211e-07\n",
      "Epoch 41/60\n",
      "\u001b[1m586/586\u001b[0m \u001b[32m━━━━━━━━━━━━━━━━━━━━\u001b[0m\u001b[37m\u001b[0m \u001b[1m0s\u001b[0m 651us/step - accuracy: 1.0000 - loss: 9.0353e-08 - val_accuracy: 1.0000 - val_loss: 1.0980e-07\n",
      "Epoch 42/60\n",
      "\u001b[1m586/586\u001b[0m \u001b[32m━━━━━━━━━━━━━━━━━━━━\u001b[0m\u001b[37m\u001b[0m \u001b[1m0s\u001b[0m 648us/step - accuracy: 1.0000 - loss: 6.0676e-08 - val_accuracy: 1.0000 - val_loss: 7.1697e-08\n",
      "Epoch 43/60\n",
      "\u001b[1m586/586\u001b[0m \u001b[32m━━━━━━━━━━━━━━━━━━━━\u001b[0m\u001b[37m\u001b[0m \u001b[1m0s\u001b[0m 662us/step - accuracy: 1.0000 - loss: 4.3578e-08 - val_accuracy: 1.0000 - val_loss: 5.4202e-08\n",
      "Epoch 44/60\n",
      "\u001b[1m586/586\u001b[0m \u001b[32m━━━━━━━━━━━━━━━━━━━━\u001b[0m\u001b[37m\u001b[0m \u001b[1m0s\u001b[0m 670us/step - accuracy: 1.0000 - loss: 3.1074e-08 - val_accuracy: 1.0000 - val_loss: 5.2664e-08\n",
      "Epoch 45/60\n",
      "\u001b[1m586/586\u001b[0m \u001b[32m━━━━━━━━━━━━━━━━━━━━\u001b[0m\u001b[37m\u001b[0m \u001b[1m0s\u001b[0m 659us/step - accuracy: 1.0000 - loss: 2.4598e-08 - val_accuracy: 1.0000 - val_loss: 4.8274e-08\n",
      "Epoch 46/60\n",
      "\u001b[1m586/586\u001b[0m \u001b[32m━━━━━━━━━━━━━━━━━━━━\u001b[0m\u001b[37m\u001b[0m \u001b[1m0s\u001b[0m 665us/step - accuracy: 1.0000 - loss: 1.9223e-08 - val_accuracy: 1.0000 - val_loss: 3.2243e-08\n",
      "Epoch 47/60\n",
      "\u001b[1m586/586\u001b[0m \u001b[32m━━━━━━━━━━━━━━━━━━━━\u001b[0m\u001b[37m\u001b[0m \u001b[1m0s\u001b[0m 639us/step - accuracy: 1.0000 - loss: 1.3988e-08 - val_accuracy: 1.0000 - val_loss: 2.0048e-08\n",
      "Epoch 48/60\n",
      "\u001b[1m586/586\u001b[0m \u001b[32m━━━━━━━━━━━━━━━━━━━━\u001b[0m\u001b[37m\u001b[0m \u001b[1m0s\u001b[0m 663us/step - accuracy: 1.0000 - loss: 1.1149e-08 - val_accuracy: 1.0000 - val_loss: 1.2553e-08\n"
     ]
    },
    {
     "name": "stdout",
     "output_type": "stream",
     "text": [
      "Epoch 49/60\n",
      "\u001b[1m586/586\u001b[0m \u001b[32m━━━━━━━━━━━━━━━━━━━━\u001b[0m\u001b[37m\u001b[0m \u001b[1m0s\u001b[0m 655us/step - accuracy: 1.0000 - loss: 9.1942e-09 - val_accuracy: 1.0000 - val_loss: 8.0635e-09\n",
      "Epoch 50/60\n",
      "\u001b[1m586/586\u001b[0m \u001b[32m━━━━━━━━━━━━━━━━━━━━\u001b[0m\u001b[37m\u001b[0m \u001b[1m0s\u001b[0m 668us/step - accuracy: 1.0000 - loss: 8.5282e-09 - val_accuracy: 1.0000 - val_loss: 5.9573e-09\n",
      "Epoch 51/60\n",
      "\u001b[1m586/586\u001b[0m \u001b[32m━━━━━━━━━━━━━━━━━━━━\u001b[0m\u001b[37m\u001b[0m \u001b[1m0s\u001b[0m 652us/step - accuracy: 1.0000 - loss: 7.5726e-09 - val_accuracy: 1.0000 - val_loss: 4.8460e-09\n",
      "Epoch 52/60\n",
      "\u001b[1m586/586\u001b[0m \u001b[32m━━━━━━━━━━━━━━━━━━━━\u001b[0m\u001b[37m\u001b[0m \u001b[1m0s\u001b[0m 629us/step - accuracy: 1.0000 - loss: 6.1490e-09 - val_accuracy: 1.0000 - val_loss: 4.1508e-09\n",
      "Epoch 53/60\n",
      "\u001b[1m586/586\u001b[0m \u001b[32m━━━━━━━━━━━━━━━━━━━━\u001b[0m\u001b[37m\u001b[0m \u001b[1m0s\u001b[0m 649us/step - accuracy: 0.9999 - loss: 4.9990e-04 - val_accuracy: 0.9902 - val_loss: 0.0214\n",
      "Epoch 54/60\n",
      "\u001b[1m586/586\u001b[0m \u001b[32m━━━━━━━━━━━━━━━━━━━━\u001b[0m\u001b[37m\u001b[0m \u001b[1m0s\u001b[0m 651us/step - accuracy: 0.9991 - loss: 0.0022 - val_accuracy: 1.0000 - val_loss: 2.6570e-06\n",
      "Epoch 55/60\n",
      "\u001b[1m586/586\u001b[0m \u001b[32m━━━━━━━━━━━━━━━━━━━━\u001b[0m\u001b[37m\u001b[0m \u001b[1m0s\u001b[0m 657us/step - accuracy: 1.0000 - loss: 2.1397e-06 - val_accuracy: 1.0000 - val_loss: 1.3962e-06\n"
     ]
    }
   ],
   "source": [
    "# Sets the random seed to repeat any randomness\n",
    "tf.random.set_seed(1234)\n",
    "\n",
    "# Initialise early stopping to the validation loss\n",
    "callback = EarlyStopping(monitor='val_loss', patience=3)\n",
    "\n",
    "# Fits the data to the TensorFlow Keras Neural Network classifier model\n",
    "history = model.fit(X_train, y_train, \n",
    "                     epochs=epochs, \n",
    "                     batch_size=batch_size,\n",
    "                     validation_data=(X_val, y_val),\n",
    "                     callbacks=[callback]\n",
    ")"
   ]
  },
  {
   "cell_type": "markdown",
   "id": "ad18d668",
   "metadata": {},
   "source": [
    "# Training and Validation Loss"
   ]
  },
  {
   "cell_type": "code",
   "execution_count": 14,
   "id": "c6cbff5c",
   "metadata": {},
   "outputs": [
    {
     "data": {
      "image/png": "[encoded data removed]",
      "text/plain": [
       "<Figure size 640x480 with 1 Axes>"
      ]
     },
     "metadata": {},
     "output_type": "display_data"
    }
   ],
   "source": [
    "# Stores the training and validation loss from training\n",
    "loss = history.history[\"loss\"]\n",
    "val_loss = history.history[\"val_loss\"]\n",
    "\n",
    "# Conts the number of training epochs run during training\n",
    "epochs = range(len(history.history[\"loss\"]))\n",
    "\n",
    "# Plots the training and validation loss\n",
    "plt.plot(epochs, loss, label=\"Train Loss\")\n",
    "plt.plot(epochs, val_loss, label=\"Val Loss\")\n",
    "plt.title(\"Training and Valivdation Loss Plot\")\n",
    "plt.xlabel(\"Epoch\")\n",
    "plt.ylabel(\"Loss\")\n",
    "plt.legend()\n",
    "plt.show()"
   ]
  },
  {
   "cell_type": "markdown",
   "id": "6ed5a093",
   "metadata": {},
   "source": [
    "# Training and Validation Accuracy"
   ]
  },
  {
   "cell_type": "code",
   "execution_count": 15,
   "id": "b6433813",
   "metadata": {},
   "outputs": [
    {
     "data": {
      "image/png": "[encoded data removed]",
      "text/plain": [
       "<Figure size 640x480 with 1 Axes>"
      ]
     },
     "metadata": {},
     "output_type": "display_data"
    }
   ],
   "source": [
    "# Stores the training and validation accuracy from training\n",
    "accuracy = history.history[\"accuracy\"]\n",
    "val_accuracy = history.history[\"val_accuracy\"]\n",
    "\n",
    "# Plots the training and validation accuracy\n",
    "plt.plot(epochs, accuracy, label=\"Train Accuracy\")\n",
    "plt.plot(epochs, val_accuracy, label=\"Val Accuracy\")\n",
    "plt.title(\"Training and Valivdation Accuracy Plot\")\n",
    "plt.xlabel('Epoch')\n",
    "plt.ylabel('Accuracy')\n",
    "plt.legend()\n",
    "plt.show()"
   ]
  },
  {
   "cell_type": "markdown",
   "id": "d20ac91b",
   "metadata": {},
   "source": [
    "# Test Loss and Accuracy"
   ]
  },
  {
   "cell_type": "code",
   "execution_count": 16,
   "id": "0b3f4b50",
   "metadata": {},
   "outputs": [
    {
     "name": "stdout",
     "output_type": "stream",
     "text": [
      "\u001b[1m184/184\u001b[0m \u001b[32m━━━━━━━━━━━━━━━━━━━━\u001b[0m\u001b[37m\u001b[0m \u001b[1m0s\u001b[0m 383us/step - accuracy: 1.0000 - loss: 1.2980e-06\n",
      "Accuracy 1.0\n",
      "Loss 1.2711526551356656e-06\n"
     ]
    }
   ],
   "source": [
    "# Evaluate the test dataset on the TensorFlow Keras Neural Network classifier\n",
    "loss, accuracy = model.evaluate(X_test, y_test)\n",
    "\n",
    "# Test Accuracy and loss\n",
    "print(\"Accuracy\", accuracy)\n",
    "print(\"Loss\", loss)"
   ]
  },
  {
   "cell_type": "markdown",
   "id": "c70ebe21",
   "metadata": {},
   "source": [
    "# Save the Trained Model"
   ]
  },
  {
   "cell_type": "code",
   "execution_count": 17,
   "id": "26345f87",
   "metadata": {},
   "outputs": [],
   "source": [
    "import os\n",
    "import pathlib\n",
    "\n",
    "# Checkpoint file path directory\n",
    "path = './tensorflow-model/'\n",
    "\n",
    "# File path directory to check for\n",
    "file = pathlib.Path(path)\n",
    "\n",
    "# Conditional if statement to check for the model checkpoint filep ath directory\n",
    "if file.exists():\n",
    "    # Prints out the file path directory exists if it does and passes the conditional\n",
    "    print('File path exists: ', path)\n",
    "    pass\n",
    "else:\n",
    "    # Outputs the folder contents to checkpoint saved models to\n",
    "    os.makedirs(path)"
   ]
  },
  {
   "cell_type": "code",
   "execution_count": 18,
   "id": "67dd692a",
   "metadata": {},
   "outputs": [
    {
     "name": "stderr",
     "output_type": "stream",
     "text": [
      "WARNING:absl:You are saving your model as an HDF5 file via `model.save()` or `keras.saving.save_model(model)`. This file format is considered legacy. We recommend using instead the native Keras format, e.g. `model.save('my_model.keras')` or `keras.saving.save_model(model, 'my_model.keras')`. \n"
     ]
    }
   ],
   "source": [
    "# Saves the model weights as classifier.h5\n",
    "model.save(path + 'classifier.h5')"
   ]
  },
  {
   "cell_type": "markdown",
   "id": "8a19bdbf",
   "metadata": {},
   "source": [
    "# Print out all the Python Variables from the Jupyter Notebook to the Screen"
   ]
  },
  {
   "cell_type": "code",
   "execution_count": 19,
   "id": "09bc050a",
   "metadata": {},
   "outputs": [
    {
     "name": "stdout",
     "output_type": "stream",
     "text": [
      "Variable                   Type               Data/Info\n",
      "-------------------------------------------------------\n",
      "Activation                 type               <class 'keras.src.layers.<...>s.activation.Activation'>\n",
      "AdamW                      type               <class 'keras.src.optimizers.adamw.AdamW'>\n",
      "Dense                      type               <class 'keras.src.layers.core.dense.Dense'>\n",
      "EarlyStopping              type               <class 'keras.src.callbac<...>_stopping.EarlyStopping'>\n",
      "Sequential                 type               <class 'keras.src.models.sequential.Sequential'>\n",
      "X_test                     DataFrame                    DATE      PRCP <...>\\n[5860 rows x 4 columns]\n",
      "X_train                    DataFrame                     DATE      PRCP<...>n[18748 rows x 4 columns]\n",
      "X_train_in                 DataFrame                     DATE      PRCP<...>n[23436 rows x 4 columns]\n",
      "X_val                      DataFrame                     DATE      PRCP<...>\\n[4688 rows x 4 columns]\n",
      "accuracy                   float              1.0\n",
      "batch_size                 int                32\n",
      "callback                   EarlyStopping      <keras.src.callbacks.earl<...>object at 0x7eb74185e350>\n",
      "categorical_crossentropy   function           <function categorical_cro<...>ntropy at 0x7eb752bde0c0>\n",
      "epochs                     range              range(0, 55)\n",
      "file                       PosixPath          tensorflow-model\n",
      "hidden_units_1             int                7\n",
      "hidden_units_2             int                7\n",
      "history                    History            <keras.src.callbacks.hist<...>object at 0x7eb7417fead0>\n",
      "input_shape                tuple              n=1\n",
      "input_units                int                7\n",
      "keras                      KerasLazyLoader    <KerasLazyLoader>\n",
      "loss                       float              1.2711526551356656e-06\n",
      "lr                         float              0.001\n",
      "metrics                    module             <module 'sklearn.metrics'<...>arn/metrics/__init__.py'>\n",
      "model                      Sequential         <Sequential name=sequential, built=True>\n",
      "os                         module             <module 'os' (frozen)>\n",
      "output_units               int                1\n",
      "path                       str                ./tensorflow-model/\n",
      "pathlib                    module             <module 'pathlib' from '/<...>b/python3.11/pathlib.py'>\n",
      "pd                         module             <module 'pandas' from '/h<...>ages/pandas/__init__.py'>\n",
      "plt                        module             <module 'matplotlib.pyplo<...>es/matplotlib/pyplot.py'>\n",
      "tf                         module             <module 'tensorflow' from<...>/tensorflow/__init__.py'>\n",
      "train_test_split           function           <function train_test_split at 0x7eb742727060>\n",
      "val_accuracy               list               n=55\n",
      "val_loss                   list               n=55\n",
      "y_test                     DataFrame                RAIN\\n0        0\\n1<...>\\n[5860 rows x 1 columns]\n",
      "y_train                    DataFrame                 RAIN\\n15303     1\\<...>n[18748 rows x 1 columns]\n",
      "y_train_in                 DataFrame                 RAIN\\n0         1\\<...>n[23436 rows x 1 columns]\n",
      "y_val                      DataFrame                 RAIN\\n11504     0\\<...>\\n[4688 rows x 1 columns]\n"
     ]
    }
   ],
   "source": [
    "# Prints out all the Python variables from the Jupyter Notebook to the screen\n",
    "%whos"
   ]
  },
  {
   "cell_type": "code",
   "execution_count": null,
   "id": "6a48ae3e",
   "metadata": {},
   "outputs": [],
   "source": []
  }
 ],
 "metadata": {
  "kernelspec": {
   "display_name": "Python 3 (ipykernel)",
   "language": "python",
   "name": "python3"
  },
  "language_info": {
   "codemirror_mode": {
    "name": "ipython",
    "version": 3
   },
   "file_extension": ".py",
   "mimetype": "text/x-python",
   "name": "python",
   "nbconvert_exporter": "python",
   "pygments_lexer": "ipython3",
   "version": "3.11.5"
  }
 },
 "nbformat": 4,
 "nbformat_minor": 5
}
